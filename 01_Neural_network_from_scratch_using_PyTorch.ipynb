{
  "nbformat": 4,
  "nbformat_minor": 0,
  "metadata": {
    "colab": {
      "provenance": []
    },
    "kernelspec": {
      "name": "python3",
      "display_name": "Python 3"
    },
    "language_info": {
      "name": "python"
    }
  },
  "cells": [
    {
      "cell_type": "markdown",
      "source": [
        "## Steps to build Neural Network from scratch using PyTorch\n",
        "\n",
        "1. Loading the dataset (input and output)\n",
        "\n",
        "2. Architecture of the model (number of input, hidden and output neurons)\n",
        "\n",
        "3. Initializing the weights for all layers\n",
        "\n",
        "4. Implementing forward propagation\n",
        "\n",
        "5. Implementing backward propagation\n",
        "\n",
        "6. Train model for n epochs"
      ],
      "metadata": {
        "id": "SoK1jhfC99mH"
      }
    },
    {
      "cell_type": "markdown",
      "source": [
        "### 1. Loading the dataset (input and output)"
      ],
      "metadata": {
        "id": "EvPLnZx9-jeX"
      }
    },
    {
      "cell_type": "code",
      "execution_count": null,
      "metadata": {
        "id": "rQK766Kc8rj2"
      },
      "outputs": [],
      "source": [
        "# importing required libraries\n",
        "\n",
        "import torch\n",
        "import matplotlib.pyplot as plt\n",
        "\n",
        "%matplotlib inline"
      ]
    },
    {
      "cell_type": "code",
      "source": [
        "# creating input tensor\n",
        "X = torch.tensor([[1, 0, 1, 0], [1, 0, 1, 1], [0, 1, 0, 1]], dtype = torch.float)\n",
        "print('Input: ')\n",
        "print(X)\n",
        "\n",
        "# shape of input tensor\n",
        "print('Shape of input: ', X.shape)\n"
      ],
      "metadata": {
        "colab": {
          "base_uri": "https://localhost:8080/"
        },
        "id": "V1oe6958-ydB",
        "outputId": "60149a42-60ff-4cfa-aed7-06956eaacd98"
      },
      "execution_count": null,
      "outputs": [
        {
          "output_type": "stream",
          "name": "stdout",
          "text": [
            "Input: \n",
            "tensor([[1., 0., 1., 0.],\n",
            "        [1., 0., 1., 1.],\n",
            "        [0., 1., 0., 1.]])\n",
            "Shape of input:  torch.Size([3, 4])\n"
          ]
        }
      ]
    },
    {
      "cell_type": "code",
      "source": [
        "# converting input in matrix form\n",
        "X = X.t()\n",
        "print('Input in matrix form: ')\n",
        "print(X)\n",
        "\n",
        "# shape of input matrix\n",
        "print('Shape of input matrix: ', X.shape)"
      ],
      "metadata": {
        "colab": {
          "base_uri": "https://localhost:8080/"
        },
        "id": "PjsqMObI_Reh",
        "outputId": "8f3f60e9-8401-4b0a-c1ee-e45a26a38cb7"
      },
      "execution_count": null,
      "outputs": [
        {
          "output_type": "stream",
          "name": "stdout",
          "text": [
            "Input in matrix form: \n",
            "tensor([[1., 1., 0.],\n",
            "        [0., 0., 1.],\n",
            "        [1., 1., 0.],\n",
            "        [0., 1., 1.]])\n",
            "Shape of input matrix:  torch.Size([4, 3])\n"
          ]
        }
      ]
    },
    {
      "cell_type": "code",
      "source": [
        "# creating output tensor\n",
        "y = torch.tensor([[1], [1], [0]], dtype = torch.float)\n",
        "print('Actual Output: ')\n",
        "print(y)\n",
        "\n",
        "# output in matrix form\n",
        "y = y.t()\n",
        "print('output in matrix form: ')\n",
        "print(y)\n",
        "\n",
        "# shape of output array\n",
        "print('Shape of output: ', y.shape)"
      ],
      "metadata": {
        "colab": {
          "base_uri": "https://localhost:8080/"
        },
        "id": "0xIdnOVD_hu1",
        "outputId": "52d97c02-f323-4bbc-e745-0aa28f1761e1"
      },
      "execution_count": null,
      "outputs": [
        {
          "output_type": "stream",
          "name": "stdout",
          "text": [
            "Actual Output: \n",
            "tensor([[1.],\n",
            "        [1.],\n",
            "        [0.]])\n",
            "output in matrix form: \n",
            "tensor([[1., 1., 0.]])\n",
            "Shape of output:  torch.Size([1, 3])\n"
          ]
        }
      ]
    },
    {
      "cell_type": "markdown",
      "source": [
        "### 2. Architecture of the model (number of input, hidden and output neurons)"
      ],
      "metadata": {
        "id": "x90A4AIsAcLC"
      }
    },
    {
      "cell_type": "code",
      "source": [
        "# number of features in the dataset\n",
        "input_layer_neurons = X.shape[0]\n",
        "\n",
        "# number of hidden layer neurons\n",
        "hidden_layer_neurons = 3\n",
        "\n",
        "# number of eurons in output layer\n",
        "output_neurons = 1"
      ],
      "metadata": {
        "id": "24B0h49SALHu"
      },
      "execution_count": null,
      "outputs": []
    },
    {
      "cell_type": "markdown",
      "source": [
        "### 3. Initializing the weights for all layers"
      ],
      "metadata": {
        "id": "zxyq2gEPA6NS"
      }
    },
    {
      "cell_type": "code",
      "source": [
        "# w_input_hidden is number of neurons in input layer times number of neurons in hidden layer\n",
        "w_input_hidden = torch.randn(input_layer_neurons, hidden_layer_neurons)\n",
        "\n",
        "# w_hidden_output is number of neurons in hidden layer times number of neurons in output layer\n",
        "w_hidden_output = torch.randn(hidden_layer_neurons, output_neurons)"
      ],
      "metadata": {
        "id": "xK5ahGEiA2gr"
      },
      "execution_count": null,
      "outputs": []
    },
    {
      "cell_type": "code",
      "source": [
        "# shape of weight matrix\n",
        "w_input_hidden.shape, w_hidden_output.shape"
      ],
      "metadata": {
        "colab": {
          "base_uri": "https://localhost:8080/"
        },
        "id": "mf1X0TzzBsl5",
        "outputId": "c0f4579d-68bc-4602-cf04-9991faa78746"
      },
      "execution_count": null,
      "outputs": [
        {
          "output_type": "execute_result",
          "data": {
            "text/plain": [
              "(torch.Size([4, 3]), torch.Size([3, 1]))"
            ]
          },
          "metadata": {},
          "execution_count": 7
        }
      ]
    },
    {
      "cell_type": "markdown",
      "source": [
        "### 4. Implementing forward propagation"
      ],
      "metadata": {
        "id": "HjQf9TrWB35j"
      }
    },
    {
      "cell_type": "code",
      "source": [
        "# we are using sigmoid as an activation function.\n",
        "\n",
        "# defining the sigmoid funtion:\n",
        "def sigmoid(s):\n",
        "  return 1 / (1 + torch.exp(-s))"
      ],
      "metadata": {
        "id": "H2RP0SD4ByDO"
      },
      "execution_count": null,
      "outputs": []
    },
    {
      "cell_type": "code",
      "source": [
        "# hidden layer activations\n",
        "hidden_layer_input = torch.matmul(w_input_hidden.t(), X)\n",
        "hidden_layer_activations = sigmoid(hidden_layer_input)"
      ],
      "metadata": {
        "id": "HAD-1MdRCVB7"
      },
      "execution_count": null,
      "outputs": []
    },
    {
      "cell_type": "code",
      "source": [
        "# calculating output\n",
        "output_layer_input = torch.matmul(w_hidden_output.t(), hidden_layer_activations)\n",
        "output = sigmoid(output_layer_input)\n",
        "output"
      ],
      "metadata": {
        "colab": {
          "base_uri": "https://localhost:8080/"
        },
        "id": "jReTIaqdCw3d",
        "outputId": "82af7997-1fff-40c9-a6f8-2d4ed281e439"
      },
      "execution_count": null,
      "outputs": [
        {
          "output_type": "execute_result",
          "data": {
            "text/plain": [
              "tensor([[0.1300, 0.1087, 0.1524]])"
            ]
          },
          "metadata": {},
          "execution_count": 10
        }
      ]
    },
    {
      "cell_type": "markdown",
      "source": [
        "### 5. Implementing backward propagation"
      ],
      "metadata": {
        "id": "J1OunHJrDHuj"
      }
    },
    {
      "cell_type": "code",
      "source": [
        "# calculating error\n",
        "error = torch.pow(y-output, 2) / 2\n",
        "error"
      ],
      "metadata": {
        "colab": {
          "base_uri": "https://localhost:8080/"
        },
        "id": "vC3qDXs8DBWs",
        "outputId": "dcbccd1b-939a-4f64-d7c3-12830e0f4d92"
      },
      "execution_count": null,
      "outputs": [
        {
          "output_type": "execute_result",
          "data": {
            "text/plain": [
              "tensor([[0.3784, 0.3972, 0.0116]])"
            ]
          },
          "metadata": {},
          "execution_count": 11
        }
      ]
    },
    {
      "cell_type": "markdown",
      "source": [
        "#### 1) Rate of change of error with respect to w_hidden_output."
      ],
      "metadata": {
        "id": "obCF9WHjDdPh"
      }
    },
    {
      "cell_type": "markdown",
      "source": [
        "\n",
        "\n",
        "**1. Input Weights ${W}_{\\text {ih }}$ and Bias ${b}_{\\mathrm{ih}}$:**\n",
        "\n",
        "\n",
        "*   ${W}_{\\text {ih }}$: Weight matrix for the input-to-hidden layer\n",
        "*   ${b}_{\\mathrm{ih}}$: Bias vector for the input-to-hidden layer\n",
        "\n",
        "**2. Input Activation $X$:**\n",
        "\n",
        "*   $X$: input activation vector\n",
        "\n",
        "**3. Compute ${Z}_1$:**\n",
        "\n",
        "$$ \\mathrm{Z}_1=\\mathrm{W}_{\\text {ih }}{ }^{\\top} \\mathrm{X}+\\mathrm{b}_{\\mathrm{ih}} $$\n",
        "\n",
        "**4. Apply Activation Function $\\sigma$ to ${Z}_1$:**\n",
        "\n",
        "$$ \\mathrm{h}_1=\\sigma\\left(\\mathrm{Z}_1\\right) $$\n",
        "\n",
        "**5. Hidden-to-output Weights ${W}_{\\mathrm{ho}}$ and Bias ${b}_{\\mathrm{ho}}$:**\n",
        "\n",
        "*   ${W}_{\\text {ho }}$: Weight matrix for the hidden-to-output layer\n",
        "*   ${b}_{\\mathrm{ho}}$: Bias vector for the hidden-to-output layer\n",
        "\n",
        "**6. Compute ${Z}_2$:**\n",
        "$$ \\mathrm{Z}_2=\\mathrm{W}_{\\mathrm{ho}}{ }^{\\mathrm{T}} \\mathrm{h}_1+\\mathrm{b}_{\\mathrm{ho}} $$\n",
        "\n",
        "**7. Apply Activation Function $\\sigma$ to ${Z}_2$:**\n",
        "$$ \\mathrm{O}=\\sigma\\left(\\mathrm{Z}_2\\right) $$\n",
        "\n",
        "\n",
        "**8. Expected Output $Y$:**\n",
        "*   $Y$: Target output\n",
        "\n",
        "**9. Calculate Error $E$:**\n",
        "$$ \\mathrm{E}=(\\mathrm{Y}-\\mathrm{O})^2 / 2 $$\n",
        "\n",
        "**10. Compute the Gradient of Error with respect to $W_{ho}$ using Chain Rule:**\n",
        "$$ \\frac{dE}{dW_{ho}} = \\frac{dZ_2}{dW_{ho}} \\cdot \\left[ \\frac{dE}{dO} \\cdot \\frac{dO}{dZ_{2}} \\right]^T $$\n",
        "\n",
        "*   First, calculate the partial derivative of ${Z}_2$ with respect to $W_{ho}$.\n",
        "\n",
        "*   Then, multiply it by the transpose of the product of the partial derivatives of $E$ with respect to $O$ and $O$ with respect to ${Z}_2$.\n",
        "\n"
      ],
      "metadata": {
        "id": "cou05wZ7g_Tb"
      }
    },
    {
      "cell_type": "code",
      "source": [
        "# rate of change of error w.r.t. output\n",
        "error_wrt_output = -(y - output)\n",
        "\n",
        "# rate of change of output w.r.t. Z2\n",
        "output_wrt_Z2 = torch.mul(output, (1-output))\n",
        "\n",
        "# rate of change of Z2 w.r.t. weights between hidden and output layer\n",
        "Z2_wrt_who = hidden_layer_activations"
      ],
      "metadata": {
        "id": "cGW-5qQyDXco"
      },
      "execution_count": null,
      "outputs": []
    },
    {
      "cell_type": "code",
      "source": [
        "# rate of change of error w.r.t. weights between hidden and output layer\n",
        "error_wrt_who = torch.matmul(Z2_wrt_who, (error_wrt_output*output_wrt_Z2).t())"
      ],
      "metadata": {
        "id": "giJp83iuExzh"
      },
      "execution_count": null,
      "outputs": []
    },
    {
      "cell_type": "markdown",
      "source": [
        "#### 2) Rate of change of error with respect to w_input_hidden."
      ],
      "metadata": {
        "id": "7FutK3DKFTxJ"
      }
    },
    {
      "cell_type": "markdown",
      "source": [
        "\n",
        "\n",
        "**1. Compute ${Z}_1$:**\n",
        "\n",
        "$$\\mathrm{Z}_1=\\mathrm{W}_{\\text {ih }}{ }^{\\top} \\mathrm{X}+\\mathrm{b}_{\\mathrm{ih}} $$\n",
        "\n",
        "**2. Apply Activation Function $\\sigma$ to ${Z}_1$:**\n",
        "\n",
        "$$\\mathrm{h}_1=\\sigma\\left(\\mathrm{Z}_1\\right)$$\n",
        "\n",
        "**3. Compute the Gradient of $h_1$ with respect to $Z_1$:**\n",
        "\n",
        "$$\\frac{dh_1}{dZ_1} = \\sigma'(Z_1)$$\n",
        "\n",
        "**4. Hidden-to-output Weights ${W}_{\\mathrm{ho}}$ and Bias ${b}_{\\mathrm{ho}}$:**\n",
        "\n",
        "*   ${W}_{\\text {ho }}$: Weight matrix for the hidden-to-output layer\n",
        "\n",
        "*   ${b}_{\\mathrm{ho}}$: Bias vector for the hidden-to-output layer\n",
        "\n",
        "**5. Compute ${Z}_2$:**\n",
        "$$ \\mathrm{Z}_2=\\mathrm{W}_{\\mathrm{ho}}{ }^{\\mathrm{T}} \\mathrm{h}_1+\\mathrm{b}_{\\mathrm{ho}} $$\n",
        "\n",
        "**6. Compute the Gradient of $Z_2$ with respect to $W_{ho}$:**\n",
        "\n",
        "$$\\frac{dZ_2}{dW_{ho}} = h_1$$\n",
        "\n",
        "**7. Compute the Gradient of $E$ with respect to $O$:**\n",
        "\n",
        "$$ \\frac{dE}{dO} = - (Y - O)$$\n",
        "\n",
        "\n",
        "**8. Compute the Gradient of $O$ with respect to $Z_2$:**\n",
        "\n",
        "$$\\frac{dO}{dZ_2} = \\sigma'(Z_2)$$\n",
        "\n",
        "**9. Transpose the Gradient $Z_2$ with respect to ${dW_{ho}}$:**\n",
        "$$\\left[\\frac{dZ_2}{dW_{ho}}\\right]^T = h_1 ^ T$$\n",
        "\n",
        "**10. Combine the Gradients using Chain Rule:**\n",
        "\n",
        "*   Multiply, the gradients computed in steps 3, 6, 7 and 8.\n",
        "\n",
        "*  Transpose the result.\n",
        "\n",
        "$$ \\frac{dE}{dW_{ih}} = \\frac{dZ_1}{dW_{ih}} \\cdot \\left[ \\frac{dh_1}{dZ_1} \\cdot \\frac{dZ_2}{dW_{ho}} \\cdot \\left[ \\frac{dE}{dO} \\cdot \\frac{dO}{dZ_{2}} \\right] \\right]^T $$"
      ],
      "metadata": {
        "id": "AzHyaKuMpl73"
      }
    },
    {
      "cell_type": "code",
      "source": [
        "# rate of change of error w.r.t. output\n",
        "error_wrt_output = -(y - output)\n",
        "\n",
        "# rate of change of output w.r.t. Z2\n",
        "output_wrt_Z2 = torch.mul(output, (1-output))\n",
        "\n",
        "# rate of change of Z2 w.r.t. hidden layer activations\n",
        "Z2_wrt_h1 = w_hidden_output\n",
        "\n",
        "# rate of change of hidden layer activations w.r.t. Z1\n",
        "h1_wrt_Z1  = torch.matmul(hidden_layer_activations, (1-hidden_layer_activations))\n",
        "\n",
        "# rate of change of Z1 w.r.t. weights between input and hidden layer\n",
        "Z1_wrt_wih = X"
      ],
      "metadata": {
        "id": "AObjNqIHFOGw"
      },
      "execution_count": null,
      "outputs": []
    },
    {
      "cell_type": "code",
      "source": [
        "# rate of change of error w.r.t. weights between input and hidden layer\n",
        "error_wrt_wih = torch.matmul(Z1_wrt_wih, (h1_wrt_Z1*torch.matmul(Z2_wrt_h1, (output_wrt_Z2*error_wrt_output))).t())"
      ],
      "metadata": {
        "id": "iN6C0TPSGOVq"
      },
      "execution_count": null,
      "outputs": []
    },
    {
      "cell_type": "markdown",
      "source": [
        "### Update the parameters"
      ],
      "metadata": {
        "id": "sBdHSWKBGs9L"
      }
    },
    {
      "cell_type": "code",
      "source": [
        "# defining learning rate\n",
        "lr = 0.01"
      ],
      "metadata": {
        "id": "v_u_3hcXGmPy"
      },
      "execution_count": null,
      "outputs": []
    },
    {
      "cell_type": "code",
      "source": [
        "# initial w_input_hidden\n",
        "w_input_hidden"
      ],
      "metadata": {
        "colab": {
          "base_uri": "https://localhost:8080/"
        },
        "id": "3jTWHObPG_qy",
        "outputId": "63d05681-feca-44d9-b836-07e892710d1d"
      },
      "execution_count": null,
      "outputs": [
        {
          "output_type": "execute_result",
          "data": {
            "text/plain": [
              "tensor([[ 0.3750,  0.8466, -1.2680],\n",
              "        [-0.4884,  0.5736,  1.0044],\n",
              "        [ 0.3969,  1.7940,  0.4790],\n",
              "        [ 0.6892,  1.3848, -0.8252]])"
            ]
          },
          "metadata": {},
          "execution_count": 17
        }
      ]
    },
    {
      "cell_type": "code",
      "source": [
        "# initial w_hidden_output\n",
        "w_hidden_output"
      ],
      "metadata": {
        "colab": {
          "base_uri": "https://localhost:8080/"
        },
        "id": "sgf3AKc9G4td",
        "outputId": "8626fe25-3e35-40b5-fd09-6e562600309c"
      },
      "execution_count": null,
      "outputs": [
        {
          "output_type": "execute_result",
          "data": {
            "text/plain": [
              "tensor([[-1.8215],\n",
              "        [-0.5698],\n",
              "        [-0.3937]])"
            ]
          },
          "metadata": {},
          "execution_count": 18
        }
      ]
    },
    {
      "cell_type": "code",
      "source": [
        "# updating weights of output layer\n",
        "w_hidden_output = w_hidden_output - lr * error_wrt_who\n",
        "w_hidden_output"
      ],
      "metadata": {
        "colab": {
          "base_uri": "https://localhost:8080/"
        },
        "id": "IPUxjw_wHCt7",
        "outputId": "d620ce55-0c8d-444a-c8f7-b133cbd33eb3"
      },
      "execution_count": null,
      "outputs": [
        {
          "output_type": "execute_result",
          "data": {
            "text/plain": [
              "tensor([[-1.8202],\n",
              "        [-0.5682],\n",
              "        [-0.3933]])"
            ]
          },
          "metadata": {},
          "execution_count": 19
        }
      ]
    },
    {
      "cell_type": "code",
      "source": [
        "# updating weights of hidden layer\n",
        "w_input_hidden = w_input_hidden - lr * error_wrt_wih\n",
        "w_input_hidden"
      ],
      "metadata": {
        "colab": {
          "base_uri": "https://localhost:8080/"
        },
        "id": "EJ6gmWQ7HOnt",
        "outputId": "8e7bba71-18af-49b5-95db-552c08799630"
      },
      "execution_count": null,
      "outputs": [
        {
          "output_type": "execute_result",
          "data": {
            "text/plain": [
              "tensor([[ 0.3729,  0.8456, -1.2683],\n",
              "        [-0.4882,  0.5737,  1.0044],\n",
              "        [ 0.3948,  1.7931,  0.4787],\n",
              "        [ 0.6885,  1.3845, -0.8253]])"
            ]
          },
          "metadata": {},
          "execution_count": 20
        }
      ]
    },
    {
      "cell_type": "markdown",
      "source": [
        "### 6. Train model for n epochs"
      ],
      "metadata": {
        "id": "rNUgVvVtHiKv"
      }
    },
    {
      "cell_type": "code",
      "source": [
        "# defining model architecture\n",
        "\n",
        "# number of features in the dataset\n",
        "input_layer_neurons = X.shape[0]\n",
        "\n",
        "# number of hidden layer neurons\n",
        "hidden_layer_neurons = 3\n",
        "\n",
        "# number of eurons in output layer\n",
        "output_neurons = 1"
      ],
      "metadata": {
        "id": "R3-NCW-IHXBX"
      },
      "execution_count": null,
      "outputs": []
    },
    {
      "cell_type": "code",
      "source": [
        "# initializing weights\n",
        "\n",
        "# w_input_hidden is number of neurons in input layer times number of neurons in hidden layer\n",
        "w_input_hidden = torch.randn(input_layer_neurons, hidden_layer_neurons, dtype = torch.float)\n",
        "\n",
        "# w_hidden_output is number of neurons in hidden layer times number of neurons in output layer\n",
        "w_hidden_output = torch.randn(hidden_layer_neurons, output_neurons, dtype = torch.float)"
      ],
      "metadata": {
        "id": "vlEJ1T-xIFov"
      },
      "execution_count": null,
      "outputs": []
    },
    {
      "cell_type": "code",
      "source": [
        "# defining the parameters\n",
        "\n",
        "lr = 0.01\n",
        "epochs = 10000"
      ],
      "metadata": {
        "id": "zGFvAeACIR0f"
      },
      "execution_count": null,
      "outputs": []
    },
    {
      "cell_type": "code",
      "source": [
        "# initial w_input_hidden\n",
        "w_input_hidden"
      ],
      "metadata": {
        "colab": {
          "base_uri": "https://localhost:8080/"
        },
        "id": "V1cCkokFIlIE",
        "outputId": "267ce183-bd49-458b-9e2e-0d6e9e309f28"
      },
      "execution_count": null,
      "outputs": [
        {
          "output_type": "execute_result",
          "data": {
            "text/plain": [
              "tensor([[-0.2615, -0.2266, -0.2066],\n",
              "        [-0.0849,  0.1225, -1.5832],\n",
              "        [-0.0043, -0.7979,  0.1768],\n",
              "        [-0.3401,  1.0397,  1.4195]])"
            ]
          },
          "metadata": {},
          "execution_count": 24
        }
      ]
    },
    {
      "cell_type": "code",
      "source": [
        "# initial w_hidden_output\n",
        "w_hidden_output"
      ],
      "metadata": {
        "colab": {
          "base_uri": "https://localhost:8080/"
        },
        "id": "R1KOnc2TIqfY",
        "outputId": "af488800-4e3d-4ae2-f982-e52ce81e9bfa"
      },
      "execution_count": null,
      "outputs": [
        {
          "output_type": "execute_result",
          "data": {
            "text/plain": [
              "tensor([[-0.6856],\n",
              "        [ 1.7916],\n",
              "        [-1.4329]])"
            ]
          },
          "metadata": {},
          "execution_count": 25
        }
      ]
    },
    {
      "cell_type": "code",
      "source": [
        "error_epoch = []\n",
        "\n",
        "for epoch in range(epochs):\n",
        "  # forward propagation\n",
        "\n",
        "  # hidden layer activations\n",
        "  hidden_layer_input = torch.matmul(w_input_hidden.t(), X)\n",
        "  hidden_layer_activations = sigmoid(hidden_layer_input)\n",
        "\n",
        "  # calculating output\n",
        "  output_layer_input = torch.matmul(w_hidden_output.t(), hidden_layer_activations)\n",
        "  output = sigmoid(output_layer_input)\n",
        "\n",
        "  # backward propagation\n",
        "\n",
        "  # calculating error\n",
        "  error = torch.pow(y-output, 2) / 2\n",
        "\n",
        "  # rate of change of error w.r.t. output\n",
        "  error_wrt_output = -(y - output)\n",
        "  # rate of change of output w.r.t. Z2\n",
        "  output_wrt_Z2 = torch.mul(output, (1-output))\n",
        "  # rate of change of Z2 w.r.t. weights between hidden and output layer\n",
        "  Z2_wrt_who = hidden_layer_activations\n",
        "\n",
        "  # rate of change of error w.r.t. weights between hidden and output layer\n",
        "  error_wrt_who = torch.matmul(Z2_wrt_who, (error_wrt_output*output_wrt_Z2).t())\n",
        "\n",
        "\n",
        "  # rate of change of error w.r.t. output\n",
        "  error_wrt_output = -(y - output)\n",
        "  # rate of change of output w.r.t. Z2\n",
        "  output_wrt_Z2 = torch.mul(output, (1-output))\n",
        "  # rate of change of Z2 w.r.t. hidden layer activations\n",
        "  Z2_wrt_h1 = w_hidden_output\n",
        "  # rate of change of hidden layer activations w.r.t. Z1\n",
        "  h1_wrt_Z1  = torch.matmul(hidden_layer_activations, (1-hidden_layer_activations))\n",
        "  # rate of change of Z1 w.r.t. weights between input and hidden layer\n",
        "  Z1_wrt_wih = X\n",
        "\n",
        "  # rate of change of error w.r.t. weights between input and hidden layer\n",
        "  error_wrt_wih = torch.matmul(Z1_wrt_wih, (h1_wrt_Z1*torch.matmul(Z2_wrt_h1, (output_wrt_Z2*error_wrt_output))).t())\n",
        "\n",
        "  # updating weights of output layer\n",
        "  w_hidden_output = w_hidden_output - lr * error_wrt_who\n",
        "  # updating weights of hidden layer\n",
        "  w_input_hidden = w_input_hidden - lr * error_wrt_wih\n",
        "\n",
        "  # appending error of each epoch\n",
        "  error_epoch.append(torch.mean(error))\n"
      ],
      "metadata": {
        "id": "ACTWyqE5IsJS"
      },
      "execution_count": null,
      "outputs": []
    },
    {
      "cell_type": "code",
      "source": [
        "# updated w_hidden_output\n",
        "w_hidden_output"
      ],
      "metadata": {
        "colab": {
          "base_uri": "https://localhost:8080/"
        },
        "id": "6Pa7WDT2KOcQ",
        "outputId": "3fdec6cf-d6b3-4619-a151-169380b8590d"
      },
      "execution_count": null,
      "outputs": [
        {
          "output_type": "execute_result",
          "data": {
            "text/plain": [
              "tensor([[-1.1942],\n",
              "        [ 3.1716],\n",
              "        [-2.2215]])"
            ]
          },
          "metadata": {},
          "execution_count": 27
        }
      ]
    },
    {
      "cell_type": "code",
      "source": [
        "# updated w_input_hidden\n",
        "w_input_hidden"
      ],
      "metadata": {
        "colab": {
          "base_uri": "https://localhost:8080/"
        },
        "id": "obiJAlzuKW4B",
        "outputId": "9cc57a2e-f655-4380-b625-a72e0c27c630"
      },
      "execution_count": null,
      "outputs": [
        {
          "output_type": "execute_result",
          "data": {
            "text/plain": [
              "tensor([[-1.2873,  4.3265, -2.6441],\n",
              "        [ 0.5344, -6.0283, -0.1011],\n",
              "        [-1.0300,  3.7552, -2.2607],\n",
              "        [-0.2632, -2.5983,  1.6607]])"
            ]
          },
          "metadata": {},
          "execution_count": 28
        }
      ]
    },
    {
      "cell_type": "code",
      "source": [
        "# visualizing error after each epoch\n",
        "plt.plot(torch.arange(1, epochs+1).numpy(), torch.tensor(error_epoch).numpy())\n",
        "plt.show()"
      ],
      "metadata": {
        "colab": {
          "base_uri": "https://localhost:8080/",
          "height": 434
        },
        "id": "Lk3oWNwXKZ2a",
        "outputId": "175dab1e-29ea-42aa-e80c-de6eac548b2f"
      },
      "execution_count": null,
      "outputs": [
        {
          "output_type": "display_data",
          "data": {
            "text/plain": [
              "<Figure size 640x480 with 1 Axes>"
            ],
            "image/png": "[encoded data removed]"
          },
          "metadata": {}
        }
      ]
    },
    {
      "cell_type": "code",
      "source": [
        "# final output from model\n",
        "output"
      ],
      "metadata": {
        "colab": {
          "base_uri": "https://localhost:8080/"
        },
        "id": "PdcehkI3KuBc",
        "outputId": "fbe0fa12-6f01-4c65-caaa-d2d6e79fd7d8"
      },
      "execution_count": null,
      "outputs": [
        {
          "output_type": "execute_result",
          "data": {
            "text/plain": [
              "tensor([[0.9547, 0.9522, 0.0750]])"
            ]
          },
          "metadata": {},
          "execution_count": 30
        }
      ]
    },
    {
      "cell_type": "code",
      "source": [
        "# actual target\n",
        "y"
      ],
      "metadata": {
        "colab": {
          "base_uri": "https://localhost:8080/"
        },
        "id": "fUWtfdQXK3Oy",
        "outputId": "f9a3eab0-9cc1-4de5-c75e-8ae66d60aa63"
      },
      "execution_count": null,
      "outputs": [
        {
          "output_type": "execute_result",
          "data": {
            "text/plain": [
              "tensor([[1., 1., 0.]])"
            ]
          },
          "metadata": {},
          "execution_count": 31
        }
      ]
    },
    {
      "cell_type": "code",
      "source": [
        "# error at last epoch\n",
        "error"
      ],
      "metadata": {
        "colab": {
          "base_uri": "https://localhost:8080/"
        },
        "id": "t_cPzGb_K5fP",
        "outputId": "bf6b1127-c6f4-4b93-df78-ec8591994459"
      },
      "execution_count": null,
      "outputs": [
        {
          "output_type": "execute_result",
          "data": {
            "text/plain": [
              "tensor([[0.0010, 0.0011, 0.0028]])"
            ]
          },
          "metadata": {},
          "execution_count": 32
        }
      ]
    }
  ]
}