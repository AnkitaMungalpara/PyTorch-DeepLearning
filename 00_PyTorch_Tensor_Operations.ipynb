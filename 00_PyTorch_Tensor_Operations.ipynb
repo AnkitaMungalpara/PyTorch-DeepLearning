{
  "nbformat": 4,
  "nbformat_minor": 0,
  "metadata": {
    "colab": {
      "provenance": []
    },
    "kernelspec": {
      "name": "python3",
      "display_name": "Python 3"
    },
    "language_info": {
      "name": "python"
    }
  },
  "cells": [
    {
      "cell_type": "markdown",
      "source": [
        "\n",
        "\n",
        "1.   Initializing tensors\n",
        "    \n",
        "    1.1.  Initializing 1D tensor\n",
        "    \n",
        "    1.2  Initializing 2D tensor\n",
        "\n",
        "    1.3   Initializing 3D tensor\n",
        "\n",
        "    1.4  Randomly initializing tensors\n",
        "\n",
        "\n",
        "2.   Mathematical operations in PyTorch\n",
        "\n",
        "3.   Matrix operations in PyTorch\n",
        "\n",
        "    3.1 Matrix addition\n",
        "\n",
        "    3.2 Matrix subtraction\n",
        "\n",
        "    3.3 Matrix multiplication\n",
        "\n",
        "    3.4 Matrix division\n",
        "\n",
        "    3.5 Transpose of a matrix\n",
        "\n",
        "    3.6 Reshaping 2D tensors\n",
        "\n",
        "4. Converting NumPy arrays to PyTorch tensors\n",
        "\n",
        "5. Converting PyTorch Tensors to NumPy array\n",
        "\n",
        "\n"
      ],
      "metadata": {
        "id": "9oIlFMlW-2q2"
      }
    },
    {
      "cell_type": "markdown",
      "source": [
        "## 1. Initializing tensors"
      ],
      "metadata": {
        "id": "zVoalt1vBy60"
      }
    },
    {
      "cell_type": "code",
      "execution_count": 1,
      "metadata": {
        "colab": {
          "base_uri": "https://localhost:8080/"
        },
        "id": "EKKQpKk4-PsZ",
        "outputId": "7570f2d1-875f-4642-b90e-5628e272ec96"
      },
      "outputs": [
        {
          "output_type": "stream",
          "name": "stdout",
          "text": [
            "2.1.0+cu121\n"
          ]
        }
      ],
      "source": [
        "# import PyTorch library and checking its version\n",
        "import torch\n",
        "print(torch.__version__)"
      ]
    },
    {
      "cell_type": "markdown",
      "source": [
        "### 1.1.  Initializing 1D tensor"
      ],
      "metadata": {
        "id": "WJH8m7xrCMM5"
      }
    },
    {
      "cell_type": "code",
      "source": [
        "# initializing 1D tensor\n",
        "one_d_tensor = torch.tensor([1])\n",
        "print(one_d_tensor)"
      ],
      "metadata": {
        "colab": {
          "base_uri": "https://localhost:8080/"
        },
        "id": "ZU1kldlMCCY7",
        "outputId": "dbe84a2b-8893-45f7-efd3-313d18d26589"
      },
      "execution_count": 2,
      "outputs": [
        {
          "output_type": "stream",
          "name": "stdout",
          "text": [
            "tensor([1])\n"
          ]
        }
      ]
    },
    {
      "cell_type": "code",
      "source": [
        "# type of initialized tensor\n",
        "type(one_d_tensor)"
      ],
      "metadata": {
        "colab": {
          "base_uri": "https://localhost:8080/"
        },
        "id": "eo5wjenmCc9V",
        "outputId": "8f033f94-ed99-4109-a5f9-0d1160bcbe67"
      },
      "execution_count": 3,
      "outputs": [
        {
          "output_type": "execute_result",
          "data": {
            "text/plain": [
              "torch.Tensor"
            ]
          },
          "metadata": {},
          "execution_count": 3
        }
      ]
    },
    {
      "cell_type": "code",
      "source": [
        "# data type of tensor\n",
        "one_d_tensor.dtype"
      ],
      "metadata": {
        "colab": {
          "base_uri": "https://localhost:8080/"
        },
        "id": "YQDiJlvzCgqk",
        "outputId": "04dd6f4b-7b92-4140-f9dc-13c0fefbbfb6"
      },
      "execution_count": 4,
      "outputs": [
        {
          "output_type": "execute_result",
          "data": {
            "text/plain": [
              "torch.int64"
            ]
          },
          "metadata": {},
          "execution_count": 4
        }
      ]
    },
    {
      "cell_type": "code",
      "source": [
        "# shape of 1D tensor\n",
        "one_d_tensor.shape"
      ],
      "metadata": {
        "colab": {
          "base_uri": "https://localhost:8080/"
        },
        "id": "m2GzZLh9CmZu",
        "outputId": "b9b3cac1-8b7f-4154-c029-b166d34cfa74"
      },
      "execution_count": 5,
      "outputs": [
        {
          "output_type": "execute_result",
          "data": {
            "text/plain": [
              "torch.Size([1])"
            ]
          },
          "metadata": {},
          "execution_count": 5
        }
      ]
    },
    {
      "cell_type": "markdown",
      "source": [
        "### 1.2.  Initializing 2D tensor"
      ],
      "metadata": {
        "id": "lKAiP8UhC8__"
      }
    },
    {
      "cell_type": "code",
      "source": [
        "# Initializing 2D tensor\n",
        "two_d_tensor = torch.tensor([[1, 2], [3, 4]])\n",
        "print(two_d_tensor)"
      ],
      "metadata": {
        "colab": {
          "base_uri": "https://localhost:8080/"
        },
        "id": "6HU4wk3GCyx1",
        "outputId": "96fe36a2-233e-4058-8593-9717052d7d4d"
      },
      "execution_count": 6,
      "outputs": [
        {
          "output_type": "stream",
          "name": "stdout",
          "text": [
            "tensor([[1, 2],\n",
            "        [3, 4]])\n"
          ]
        }
      ]
    },
    {
      "cell_type": "code",
      "source": [
        "# shape of 2D tensor\n",
        "two_d_tensor.shape"
      ],
      "metadata": {
        "colab": {
          "base_uri": "https://localhost:8080/"
        },
        "id": "YnDAqZlKDPA7",
        "outputId": "312c9b14-0578-431c-e492-46ce7353ffa4"
      },
      "execution_count": 7,
      "outputs": [
        {
          "output_type": "execute_result",
          "data": {
            "text/plain": [
              "torch.Size([2, 2])"
            ]
          },
          "metadata": {},
          "execution_count": 7
        }
      ]
    },
    {
      "cell_type": "markdown",
      "source": [
        "### 1.3. Initializing 3D tensor"
      ],
      "metadata": {
        "id": "3MNxe9V9DYQG"
      }
    },
    {
      "cell_type": "code",
      "source": [
        "# Initializing 3D tensor\n",
        "three_d_tensor = torch.tensor([[[1, 2, 3], [4, 5, 6], [7, 8, 9]],\n",
        "                                [[10, 11, 12], [13, 14, 15], [16, 17, 18]]])\n",
        "print(three_d_tensor)"
      ],
      "metadata": {
        "colab": {
          "base_uri": "https://localhost:8080/"
        },
        "id": "3ZARr0J8DTlb",
        "outputId": "c63466f1-517d-4453-dabb-fba32cfcbff5"
      },
      "execution_count": 8,
      "outputs": [
        {
          "output_type": "stream",
          "name": "stdout",
          "text": [
            "tensor([[[ 1,  2,  3],\n",
            "         [ 4,  5,  6],\n",
            "         [ 7,  8,  9]],\n",
            "\n",
            "        [[10, 11, 12],\n",
            "         [13, 14, 15],\n",
            "         [16, 17, 18]]])\n"
          ]
        }
      ]
    },
    {
      "cell_type": "code",
      "source": [
        "# shape of 3D tensor\n",
        "three_d_tensor.shape"
      ],
      "metadata": {
        "colab": {
          "base_uri": "https://localhost:8080/"
        },
        "id": "M3129avADoGT",
        "outputId": "dce14c17-467c-4f99-8be8-a5a1f154f527"
      },
      "execution_count": 9,
      "outputs": [
        {
          "output_type": "execute_result",
          "data": {
            "text/plain": [
              "torch.Size([2, 3, 3])"
            ]
          },
          "metadata": {},
          "execution_count": 9
        }
      ]
    },
    {
      "cell_type": "markdown",
      "source": [
        "### 1.4  Randomly initializing tensors"
      ],
      "metadata": {
        "id": "GqnWQVelEeE4"
      }
    },
    {
      "cell_type": "code",
      "source": [
        "# setting random seed for PyTorch\n",
        "torch.manual_seed(48)\n",
        "\n",
        "# 1D tensor of random numbers\n",
        "random_1d_tensor = torch.randn(6)\n",
        "random_1d_tensor"
      ],
      "metadata": {
        "colab": {
          "base_uri": "https://localhost:8080/"
        },
        "id": "f8i3ae3HERbO",
        "outputId": "1c3ff6f1-7c56-4ea3-dcaa-c06189f6c221"
      },
      "execution_count": 10,
      "outputs": [
        {
          "output_type": "execute_result",
          "data": {
            "text/plain": [
              "tensor([ 1.0172, -2.1592, -0.6744,  0.5186,  1.0322,  0.6206])"
            ]
          },
          "metadata": {},
          "execution_count": 10
        }
      ]
    },
    {
      "cell_type": "code",
      "source": [
        "# setting random seed for PyTorch\n",
        "torch.manual_seed(48)\n",
        "\n",
        "# 2D tensor of random numbers\n",
        "random_2d_tensor = torch.randn(6, 3)\n",
        "random_2d_tensor"
      ],
      "metadata": {
        "colab": {
          "base_uri": "https://localhost:8080/"
        },
        "id": "RSJmnZoRE9nq",
        "outputId": "ebd4bb7c-824c-4574-fef0-8ebc866f2d22"
      },
      "execution_count": 11,
      "outputs": [
        {
          "output_type": "execute_result",
          "data": {
            "text/plain": [
              "tensor([[ 0.0770, -0.4779, -0.8114],\n",
              "        [ 1.6048,  0.3736, -0.2863],\n",
              "        [-0.0414, -1.6634,  0.6938],\n",
              "        [ 0.5222,  0.6980, -0.2851],\n",
              "        [-1.6273, -0.2667, -0.8868],\n",
              "        [ 0.1195,  2.0794,  0.6585]])"
            ]
          },
          "metadata": {},
          "execution_count": 11
        }
      ]
    },
    {
      "cell_type": "code",
      "source": [
        "# setting random seed for PyTorch\n",
        "torch.manual_seed(48)\n",
        "\n",
        "# 3D tensor of random numbers\n",
        "random_3d_tensor = torch.randn(2, 3, 3)\n",
        "random_3d_tensor"
      ],
      "metadata": {
        "colab": {
          "base_uri": "https://localhost:8080/"
        },
        "id": "KkqtP3HEFFS_",
        "outputId": "d51a1478-e716-4de9-b6ce-d3b56583706b"
      },
      "execution_count": 12,
      "outputs": [
        {
          "output_type": "execute_result",
          "data": {
            "text/plain": [
              "tensor([[[ 0.0770, -0.4779, -0.8114],\n",
              "         [ 1.6048,  0.3736, -0.2863],\n",
              "         [-0.0414, -1.6634,  0.6938]],\n",
              "\n",
              "        [[ 0.5222,  0.6980, -0.2851],\n",
              "         [-1.6273, -0.2667, -0.8868],\n",
              "         [ 0.1195,  2.0794,  0.6585]]])"
            ]
          },
          "metadata": {},
          "execution_count": 12
        }
      ]
    },
    {
      "cell_type": "markdown",
      "source": [
        "## 2.   Mathematical operations in PyTorch"
      ],
      "metadata": {
        "id": "AyF_p9PWFlVJ"
      }
    },
    {
      "cell_type": "code",
      "source": [
        "# initializing two tensors\n",
        "a = torch.tensor(4)\n",
        "b = torch.tensor(2)\n",
        "\n",
        "print(a, b)"
      ],
      "metadata": {
        "colab": {
          "base_uri": "https://localhost:8080/"
        },
        "id": "LM9v6GroFZTE",
        "outputId": "65c9cbc9-ed45-48a4-e6b4-c78ef763cc00"
      },
      "execution_count": 13,
      "outputs": [
        {
          "output_type": "stream",
          "name": "stdout",
          "text": [
            "tensor(4) tensor(2)\n"
          ]
        }
      ]
    },
    {
      "cell_type": "code",
      "source": [
        "# addition\n",
        "print(a + b)\n",
        "\n",
        "# subtraction\n",
        "print(a - b)\n",
        "\n",
        "# division\n",
        "print(a / b)\n",
        "\n",
        "# multiplication\n",
        "print(a * b)"
      ],
      "metadata": {
        "colab": {
          "base_uri": "https://localhost:8080/"
        },
        "id": "F4cB8YvdGLdy",
        "outputId": "9fe50c2a-e751-4c80-a6cc-fcf38ae0806b"
      },
      "execution_count": 14,
      "outputs": [
        {
          "output_type": "stream",
          "name": "stdout",
          "text": [
            "tensor(6)\n",
            "tensor(2)\n",
            "tensor(2.)\n",
            "tensor(8)\n"
          ]
        }
      ]
    },
    {
      "cell_type": "markdown",
      "source": [
        "## 3.   Matrix operations in PyTorch"
      ],
      "metadata": {
        "id": "-x6M_BgLGlX7"
      }
    },
    {
      "cell_type": "code",
      "source": [
        "# setting random seed for pytorch and initializing two 2D tensors\n",
        "torch.manual_seed(48)\n",
        "\n",
        "a = torch.randn(3, 3)\n",
        "b = torch.randn(3, 3)"
      ],
      "metadata": {
        "id": "irtPi3tVGalG"
      },
      "execution_count": 15,
      "outputs": []
    },
    {
      "cell_type": "code",
      "source": [
        "print(a)"
      ],
      "metadata": {
        "colab": {
          "base_uri": "https://localhost:8080/"
        },
        "id": "JwbBNNp1HNN_",
        "outputId": "70e217ce-a43e-4313-8fe5-c147a1ac2318"
      },
      "execution_count": 16,
      "outputs": [
        {
          "output_type": "stream",
          "name": "stdout",
          "text": [
            "tensor([[ 1.0172, -2.1592, -0.6744],\n",
            "        [ 0.5186,  1.0322,  0.6206],\n",
            "        [ 1.0642, -0.5266,  0.1800]])\n"
          ]
        }
      ]
    },
    {
      "cell_type": "code",
      "source": [
        "print(b)"
      ],
      "metadata": {
        "colab": {
          "base_uri": "https://localhost:8080/"
        },
        "id": "jtuLTQIAHQfu",
        "outputId": "45246dd2-9fc7-4de8-8ab9-9efd2b9380f8"
      },
      "execution_count": 17,
      "outputs": [
        {
          "output_type": "stream",
          "name": "stdout",
          "text": [
            "tensor([[-1.1434,  1.3576,  0.1286],\n",
            "        [-0.0734,  0.4420, -0.5520],\n",
            "        [ 2.3109, -1.2542, -0.7957]])\n"
          ]
        }
      ]
    },
    {
      "cell_type": "markdown",
      "source": [
        "### 3.1 Matrix addition"
      ],
      "metadata": {
        "id": "mlZEJzgeHWOY"
      }
    },
    {
      "cell_type": "code",
      "source": [
        "# adding two matrices using torch.add\n",
        "addition = torch.add(a, b)\n",
        "addition"
      ],
      "metadata": {
        "colab": {
          "base_uri": "https://localhost:8080/"
        },
        "id": "WLCFCgu9HU9b",
        "outputId": "da45bc04-c93f-46e5-a0e1-66cecf6c7c9e"
      },
      "execution_count": 18,
      "outputs": [
        {
          "output_type": "execute_result",
          "data": {
            "text/plain": [
              "tensor([[-0.1263, -0.8015, -0.5458],\n",
              "        [ 0.4452,  1.4741,  0.0686],\n",
              "        [ 3.3751, -1.7808, -0.6157]])"
            ]
          },
          "metadata": {},
          "execution_count": 18
        }
      ]
    },
    {
      "cell_type": "markdown",
      "source": [
        "### 3.2 Matrix subtraction"
      ],
      "metadata": {
        "id": "7j1t6W2XH7cf"
      }
    },
    {
      "cell_type": "code",
      "source": [
        "# subtracting one matrix from other using torch.sub\n",
        "subtraction = torch.sub(a, b)\n",
        "subtraction"
      ],
      "metadata": {
        "colab": {
          "base_uri": "https://localhost:8080/"
        },
        "id": "tH2vAaOCHRJU",
        "outputId": "f1b23ac7-18ac-48a5-99e4-34936934cfeb"
      },
      "execution_count": 19,
      "outputs": [
        {
          "output_type": "execute_result",
          "data": {
            "text/plain": [
              "tensor([[ 2.1606, -3.5168, -0.8030],\n",
              "        [ 0.5920,  0.5902,  1.1726],\n",
              "        [-1.2467,  0.7276,  0.9758]])"
            ]
          },
          "metadata": {},
          "execution_count": 19
        }
      ]
    },
    {
      "cell_type": "markdown",
      "source": [
        "### 3.3 Matrix multiplication"
      ],
      "metadata": {
        "id": "QDGz_9sZIKmD"
      }
    },
    {
      "cell_type": "code",
      "source": [
        "# matrix multiplication using torch.mm\n",
        "# this is similar to dot product\n",
        "\n",
        "dot_product = torch.mm(a, b)\n",
        "dot_product"
      ],
      "metadata": {
        "colab": {
          "base_uri": "https://localhost:8080/"
        },
        "id": "UUgvqCatIFFT",
        "outputId": "df594702-b7b3-4aa2-e45a-90a6626d5560"
      },
      "execution_count": 20,
      "outputs": [
        {
          "output_type": "execute_result",
          "data": {
            "text/plain": [
              "tensor([[-2.5630,  1.2725,  1.8593],\n",
              "        [ 0.7654,  0.3819, -0.9969],\n",
              "        [-0.7622,  0.9863,  0.2843]])"
            ]
          },
          "metadata": {},
          "execution_count": 20
        }
      ]
    },
    {
      "cell_type": "code",
      "source": [
        "# matrix multiplication using torch.matmul\n",
        "\n",
        "matrix_multiplication = torch.matmul(a, b)\n",
        "matrix_multiplication"
      ],
      "metadata": {
        "colab": {
          "base_uri": "https://localhost:8080/"
        },
        "id": "GDGMVb-VIYuS",
        "outputId": "f1f02403-44bd-4ed6-f3eb-0d9377e8b5ec"
      },
      "execution_count": 21,
      "outputs": [
        {
          "output_type": "execute_result",
          "data": {
            "text/plain": [
              "tensor([[-2.5630,  1.2725,  1.8593],\n",
              "        [ 0.7654,  0.3819, -0.9969],\n",
              "        [-0.7622,  0.9863,  0.2843]])"
            ]
          },
          "metadata": {},
          "execution_count": 21
        }
      ]
    },
    {
      "cell_type": "code",
      "source": [
        "# matrix multiplication using torch.mul\n",
        "\n",
        "elementwise_multiplication = torch.mul(a, b)\n",
        "elementwise_multiplication"
      ],
      "metadata": {
        "colab": {
          "base_uri": "https://localhost:8080/"
        },
        "id": "xawWKFfeIlvI",
        "outputId": "5189919a-07db-48cd-ae9a-1d62bbf6eee9"
      },
      "execution_count": 22,
      "outputs": [
        {
          "output_type": "execute_result",
          "data": {
            "text/plain": [
              "tensor([[-1.1630, -2.9313, -0.0867],\n",
              "        [-0.0381,  0.4562, -0.3426],\n",
              "        [ 2.4593,  0.6605, -0.1433]])"
            ]
          },
          "metadata": {},
          "execution_count": 22
        }
      ]
    },
    {
      "cell_type": "markdown",
      "source": [
        "### 3.4 Matrix division"
      ],
      "metadata": {
        "id": "qGV2cNohJAdY"
      }
    },
    {
      "cell_type": "code",
      "source": [
        "# divide one matrix by other using torch.div\n",
        "\n",
        "division = torch.div(a, b)\n",
        "division"
      ],
      "metadata": {
        "colab": {
          "base_uri": "https://localhost:8080/"
        },
        "id": "1Z4ZVLhnI6P8",
        "outputId": "c2a9c594-fb99-417d-9825-49d6d97b3a41"
      },
      "execution_count": 23,
      "outputs": [
        {
          "output_type": "execute_result",
          "data": {
            "text/plain": [
              "tensor([[-0.8896, -1.5904, -5.2451],\n",
              "        [-7.0652,  2.3354, -1.1242],\n",
              "        [ 0.4605,  0.4199, -0.2263]])"
            ]
          },
          "metadata": {},
          "execution_count": 23
        }
      ]
    },
    {
      "cell_type": "markdown",
      "source": [
        "###   3.5 Transpose of a matrix"
      ],
      "metadata": {
        "id": "owjNidd9JL1z"
      }
    },
    {
      "cell_type": "code",
      "source": [
        "# calculating transpose f 2D tensor in PyTorch\n",
        "\n",
        "# original matrix\n",
        "print(a, '\\n')\n",
        "\n",
        "# matrix transpose\n",
        "torch.t(a)"
      ],
      "metadata": {
        "colab": {
          "base_uri": "https://localhost:8080/"
        },
        "id": "1T2wGE41JJea",
        "outputId": "37811c39-ecb0-461a-f7e9-75eff26a40eb"
      },
      "execution_count": 24,
      "outputs": [
        {
          "output_type": "stream",
          "name": "stdout",
          "text": [
            "tensor([[ 1.0172, -2.1592, -0.6744],\n",
            "        [ 0.5186,  1.0322,  0.6206],\n",
            "        [ 1.0642, -0.5266,  0.1800]]) \n",
            "\n"
          ]
        },
        {
          "output_type": "execute_result",
          "data": {
            "text/plain": [
              "tensor([[ 1.0172,  0.5186,  1.0642],\n",
              "        [-2.1592,  1.0322, -0.5266],\n",
              "        [-0.6744,  0.6206,  0.1800]])"
            ]
          },
          "metadata": {},
          "execution_count": 24
        }
      ]
    },
    {
      "cell_type": "markdown",
      "source": [
        "###     3.6 Reshaping 2D tensors"
      ],
      "metadata": {
        "id": "q92at_7LJmZn"
      }
    },
    {
      "cell_type": "code",
      "source": [
        "# setting random seed for pytorch\n",
        "torch.manual_seed(48)\n",
        "\n",
        "# initializing tensor\n",
        "a = torch.randn(4, 2)\n",
        "a"
      ],
      "metadata": {
        "colab": {
          "base_uri": "https://localhost:8080/"
        },
        "id": "Jhebky0nJhC9",
        "outputId": "a55ae799-c7ac-4d6d-b5de-b5f32eb7638d"
      },
      "execution_count": 25,
      "outputs": [
        {
          "output_type": "execute_result",
          "data": {
            "text/plain": [
              "tensor([[ 1.0172, -2.1592],\n",
              "        [-0.6744,  0.5186],\n",
              "        [ 1.0322,  0.6206],\n",
              "        [ 1.0642, -0.5266]])"
            ]
          },
          "metadata": {},
          "execution_count": 25
        }
      ]
    },
    {
      "cell_type": "code",
      "source": [
        "a.shape"
      ],
      "metadata": {
        "colab": {
          "base_uri": "https://localhost:8080/"
        },
        "id": "YKBQ2dGzJ4RG",
        "outputId": "cae24cac-5d6a-44b0-ad9f-2044a4758b4e"
      },
      "execution_count": 26,
      "outputs": [
        {
          "output_type": "execute_result",
          "data": {
            "text/plain": [
              "torch.Size([4, 2])"
            ]
          },
          "metadata": {},
          "execution_count": 26
        }
      ]
    },
    {
      "cell_type": "code",
      "source": [
        "# reshaping tensor using reshape function\n",
        "b = a.reshape(1, 8)\n",
        "b"
      ],
      "metadata": {
        "colab": {
          "base_uri": "https://localhost:8080/"
        },
        "id": "x6dFL_2wJ5Tj",
        "outputId": "f8b9af5d-e83a-4107-a7b3-333ab6295f34"
      },
      "execution_count": 27,
      "outputs": [
        {
          "output_type": "execute_result",
          "data": {
            "text/plain": [
              "tensor([[ 1.0172, -2.1592, -0.6744,  0.5186,  1.0322,  0.6206,  1.0642, -0.5266]])"
            ]
          },
          "metadata": {},
          "execution_count": 27
        }
      ]
    },
    {
      "cell_type": "code",
      "source": [
        "b.shape"
      ],
      "metadata": {
        "colab": {
          "base_uri": "https://localhost:8080/"
        },
        "id": "FMXZkaPyKDV9",
        "outputId": "6a326ed2-91a8-46dd-f911-cdb55e67e9df"
      },
      "execution_count": 28,
      "outputs": [
        {
          "output_type": "execute_result",
          "data": {
            "text/plain": [
              "torch.Size([1, 8])"
            ]
          },
          "metadata": {},
          "execution_count": 28
        }
      ]
    },
    {
      "cell_type": "code",
      "source": [
        "# reshaping tensor using view function\n",
        "b = a.view(1, 8)\n",
        "b"
      ],
      "metadata": {
        "colab": {
          "base_uri": "https://localhost:8080/"
        },
        "id": "mGt5fC6OKEYF",
        "outputId": "e56365f5-0c32-447f-877c-a706862bc43a"
      },
      "execution_count": 29,
      "outputs": [
        {
          "output_type": "execute_result",
          "data": {
            "text/plain": [
              "tensor([[ 1.0172, -2.1592, -0.6744,  0.5186,  1.0322,  0.6206,  1.0642, -0.5266]])"
            ]
          },
          "metadata": {},
          "execution_count": 29
        }
      ]
    },
    {
      "cell_type": "code",
      "source": [
        "# sum of values in tensor\n",
        "a.sum()"
      ],
      "metadata": {
        "colab": {
          "base_uri": "https://localhost:8080/"
        },
        "id": "VT5tNlchLYRM",
        "outputId": "26cbb8fd-94c8-4af2-8da2-e0ba1cc624ff"
      },
      "execution_count": 30,
      "outputs": [
        {
          "output_type": "execute_result",
          "data": {
            "text/plain": [
              "tensor(0.8925)"
            ]
          },
          "metadata": {},
          "execution_count": 30
        }
      ]
    },
    {
      "cell_type": "code",
      "source": [
        "# average of values in tensor\n",
        "torch.mean(a)"
      ],
      "metadata": {
        "colab": {
          "base_uri": "https://localhost:8080/"
        },
        "id": "ilXJb-RQLe2b",
        "outputId": "d58c5bb3-d8f7-473e-e836-5e699a8c5147"
      },
      "execution_count": 31,
      "outputs": [
        {
          "output_type": "execute_result",
          "data": {
            "text/plain": [
              "tensor(0.1116)"
            ]
          },
          "metadata": {},
          "execution_count": 31
        }
      ]
    },
    {
      "cell_type": "markdown",
      "source": [
        "## 4. Converting NumPy arrays to PyTorch tensors"
      ],
      "metadata": {
        "id": "1QQzFZalLtcp"
      }
    },
    {
      "cell_type": "code",
      "source": [
        "# imporing numpy library\n",
        "import numpy as np\n",
        "\n",
        "# initializing numpy array\n",
        "a = np.array([[1, 2], [3, 4]])\n",
        "a"
      ],
      "metadata": {
        "colab": {
          "base_uri": "https://localhost:8080/"
        },
        "id": "zCLZeEOhLkCJ",
        "outputId": "6279e5b4-08cc-4eb6-eb25-8227b62f7f96"
      },
      "execution_count": 32,
      "outputs": [
        {
          "output_type": "execute_result",
          "data": {
            "text/plain": [
              "array([[1, 2],\n",
              "       [3, 4]])"
            ]
          },
          "metadata": {},
          "execution_count": 32
        }
      ]
    },
    {
      "cell_type": "code",
      "source": [
        "type(a)"
      ],
      "metadata": {
        "colab": {
          "base_uri": "https://localhost:8080/"
        },
        "id": "jCBhPCYdL8Ci",
        "outputId": "cb799a70-4fc6-446e-e603-195b3fe0b3d6"
      },
      "execution_count": 33,
      "outputs": [
        {
          "output_type": "execute_result",
          "data": {
            "text/plain": [
              "numpy.ndarray"
            ]
          },
          "metadata": {},
          "execution_count": 33
        }
      ]
    },
    {
      "cell_type": "code",
      "source": [
        "# converting numpy array to tensor\n",
        "array_to_tensor = torch.from_numpy(a)\n",
        "array_to_tensor"
      ],
      "metadata": {
        "colab": {
          "base_uri": "https://localhost:8080/"
        },
        "id": "R07WHwpZL-sd",
        "outputId": "9a613dfe-0d37-4129-ea17-884819ad2ebb"
      },
      "execution_count": 34,
      "outputs": [
        {
          "output_type": "execute_result",
          "data": {
            "text/plain": [
              "tensor([[1, 2],\n",
              "        [3, 4]])"
            ]
          },
          "metadata": {},
          "execution_count": 34
        }
      ]
    },
    {
      "cell_type": "code",
      "source": [
        "type(array_to_tensor)"
      ],
      "metadata": {
        "colab": {
          "base_uri": "https://localhost:8080/"
        },
        "id": "GL6qSsfNMIyN",
        "outputId": "258ed421-0450-41f0-e1a2-db91a0eaf99b"
      },
      "execution_count": 35,
      "outputs": [
        {
          "output_type": "execute_result",
          "data": {
            "text/plain": [
              "torch.Tensor"
            ]
          },
          "metadata": {},
          "execution_count": 35
        }
      ]
    },
    {
      "cell_type": "markdown",
      "source": [
        "\n",
        "## 5. Converting PyTorch Tensors to NumPy array"
      ],
      "metadata": {
        "id": "zdGfI_ZrMRCC"
      }
    },
    {
      "cell_type": "code",
      "source": [
        "# initializing ytorch tensor\n",
        "a = torch.tensor([[1, 2], [3, 4]])\n",
        "a"
      ],
      "metadata": {
        "colab": {
          "base_uri": "https://localhost:8080/"
        },
        "id": "dUygYMjQMLNm",
        "outputId": "f74922c6-659c-45d3-b20e-e3fda19c3e15"
      },
      "execution_count": 36,
      "outputs": [
        {
          "output_type": "execute_result",
          "data": {
            "text/plain": [
              "tensor([[1, 2],\n",
              "        [3, 4]])"
            ]
          },
          "metadata": {},
          "execution_count": 36
        }
      ]
    },
    {
      "cell_type": "code",
      "source": [
        "type(a)"
      ],
      "metadata": {
        "colab": {
          "base_uri": "https://localhost:8080/"
        },
        "id": "fzWExThLMdlz",
        "outputId": "c6921169-4dfe-418f-ddcb-1e53f930a1e5"
      },
      "execution_count": 37,
      "outputs": [
        {
          "output_type": "execute_result",
          "data": {
            "text/plain": [
              "torch.Tensor"
            ]
          },
          "metadata": {},
          "execution_count": 37
        }
      ]
    },
    {
      "cell_type": "code",
      "source": [
        "# converting pytorch tensor to numpy array\n",
        "tensor_to_array = a.numpy()\n",
        "tensor_to_array"
      ],
      "metadata": {
        "colab": {
          "base_uri": "https://localhost:8080/"
        },
        "id": "q6yGic6KMes0",
        "outputId": "4ef315b1-5554-4182-d815-6395b5e68b39"
      },
      "execution_count": 38,
      "outputs": [
        {
          "output_type": "execute_result",
          "data": {
            "text/plain": [
              "array([[1, 2],\n",
              "       [3, 4]])"
            ]
          },
          "metadata": {},
          "execution_count": 38
        }
      ]
    },
    {
      "cell_type": "code",
      "source": [
        "type(tensor_to_array)"
      ],
      "metadata": {
        "colab": {
          "base_uri": "https://localhost:8080/"
        },
        "id": "m7DfebY8MrFN",
        "outputId": "2d155ce4-4653-4114-cece-dd996bf2cd39"
      },
      "execution_count": 39,
      "outputs": [
        {
          "output_type": "execute_result",
          "data": {
            "text/plain": [
              "numpy.ndarray"
            ]
          },
          "metadata": {},
          "execution_count": 39
        }
      ]
    }
  ]
}